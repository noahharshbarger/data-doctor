{
 "cells": [
  {
   "cell_type": "code",
   "execution_count": null,
   "id": "6c74d17b",
   "metadata": {},
   "outputs": [],
   "source": [
    "import pandas as pd\n",
    "from data_doctor.pipeline import DataPipeline\n",
    "\n",
    "df = pd.read_csv(\"sample_data.csv\")\n",
    "\n",
    "pipeline = DataPipeline(df)\n",
    "print(\"Validation Report:\", pipeline.validate())\n",
    "\n",
    "cleaned_df = pipeline.run_basic_cleaning()\n",
    "transformed_df = pipeline.run_transformations()\n",
    "\n",
    "print(transformed_df.head())"
   ]
  }
 ],
 "metadata": {
  "language_info": {
   "name": "python"
  }
 },
 "nbformat": 4,
 "nbformat_minor": 5
}
