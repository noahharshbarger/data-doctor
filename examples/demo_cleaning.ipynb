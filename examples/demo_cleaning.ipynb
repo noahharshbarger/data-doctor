{
 "cells": [
  {
   "cell_type": "markdown",
   "id": "a3900048",
   "metadata": {},
   "source": [
    "# Data Doctor Demo & Tests\n",
    "This notebook demonstrates and tests the core features of Data Doctor — uploading, cleaning, and displaying data."
   ]
  },
  {
   "cell_type": "code",
   "execution_count": null,
   "id": "2391e35c",
   "metadata": {},
   "outputs": [],
   "source": [
    "import pandas as pd\n",
    "from data_doctor import clean_nulls, standardize_columns, detect_outlers "
   ]
  }
 ],
 "metadata": {
  "language_info": {
   "name": "python"
  }
 },
 "nbformat": 4,
 "nbformat_minor": 5
}
